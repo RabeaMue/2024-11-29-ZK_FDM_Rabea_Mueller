{
 "cells": [
  {
   "cell_type": "markdown",
   "id": "4ae7ba8b-693c-438f-8200-8c83d44c9717",
   "metadata": {},
   "source": [
    "# Python Einführung"
   ]
  },
  {
   "cell_type": "code",
   "execution_count": 1,
   "id": "2bfd4708-e4bc-4302-8c89-3d6da5124a7f",
   "metadata": {},
   "outputs": [
    {
     "name": "stdout",
     "output_type": "stream",
     "text": [
      "Hello world!\n"
     ]
    }
   ],
   "source": [
    "print(\"Hello world!\")"
   ]
  },
  {
   "cell_type": "code",
   "execution_count": 77,
   "id": "7533988d-1504-45ca-93a9-a5d4498a03db",
   "metadata": {},
   "outputs": [
    {
     "name": "stdout",
     "output_type": "stream",
     "text": [
      "Defaulting to user installation because normal site-packages is not writeable\n",
      "Requirement already satisfied: pandas in /home/rabea/.local/lib/python3.10/site-packages (2.1.0)\n",
      "Requirement already satisfied: pytz>=2020.1 in /usr/lib/python3/dist-packages (from pandas) (2022.1)\n",
      "Requirement already satisfied: python-dateutil>=2.8.2 in /home/rabea/.local/lib/python3.10/site-packages (from pandas) (2.8.2)\n",
      "Requirement already satisfied: tzdata>=2022.1 in /home/rabea/.local/lib/python3.10/site-packages (from pandas) (2023.3)\n",
      "Requirement already satisfied: numpy>=1.22.4 in /home/rabea/.local/lib/python3.10/site-packages (from pandas) (1.25.2)\n",
      "Requirement already satisfied: six>=1.5 in /usr/lib/python3/dist-packages (from python-dateutil>=2.8.2->pandas) (1.16.0)\n"
     ]
    }
   ],
   "source": [
    "!pip install pandas"
   ]
  },
  {
   "cell_type": "code",
   "execution_count": 2,
   "id": "ecad8405-ca46-453b-99d0-45d7335a6d9d",
   "metadata": {},
   "outputs": [
    {
     "name": "stdout",
     "output_type": "stream",
     "text": [
      "Something\n"
     ]
    }
   ],
   "source": [
    "# Dies ist ein Kommentar\n",
    "print(\"Something\")"
   ]
  },
  {
   "cell_type": "code",
   "execution_count": 3,
   "id": "a7cfdf37-fb40-4c32-8732-62403ecd4f86",
   "metadata": {},
   "outputs": [],
   "source": [
    "# Dies ist ein Kommentar\n",
    "# print(\"Something\")"
   ]
  },
  {
   "cell_type": "markdown",
   "id": "86e17cf6-63d8-47d8-8314-9704185cc469",
   "metadata": {},
   "source": [
    "## Einfache Datentypen"
   ]
  },
  {
   "cell_type": "code",
   "execution_count": 4,
   "id": "695f9ba1-1f4b-496e-85cb-c5890c2a79b9",
   "metadata": {},
   "outputs": [],
   "source": [
    "# Variablen und Wertezuweisungen\n",
    "name = \"Lovelace\""
   ]
  },
  {
   "cell_type": "code",
   "execution_count": 5,
   "id": "4f892bbe-df4f-47bc-bb64-d27823988a80",
   "metadata": {},
   "outputs": [
    {
     "name": "stdout",
     "output_type": "stream",
     "text": [
      "Lovelace\n"
     ]
    }
   ],
   "source": [
    "print(name)"
   ]
  },
  {
   "cell_type": "code",
   "execution_count": 6,
   "id": "256cfdbf-aa37-4e64-8b70-e966910538aa",
   "metadata": {},
   "outputs": [
    {
     "name": "stdout",
     "output_type": "stream",
     "text": [
      "Ada\n"
     ]
    }
   ],
   "source": [
    "# String - Zeichenkette\n",
    "first_name = \"Ada\"\n",
    "print(first_name)"
   ]
  },
  {
   "cell_type": "code",
   "execution_count": 7,
   "id": "a2e71a37-218c-4309-a0af-47862faf9b5c",
   "metadata": {},
   "outputs": [
    {
     "name": "stdout",
     "output_type": "stream",
     "text": [
      "37\n"
     ]
    }
   ],
   "source": [
    "# Integer - Ganzzahlen\n",
    "age = 37\n",
    "print(age)"
   ]
  },
  {
   "cell_type": "code",
   "execution_count": 8,
   "id": "811fbfe9-e8d1-4573-8014-f7060263b7d5",
   "metadata": {},
   "outputs": [
    {
     "name": "stdout",
     "output_type": "stream",
     "text": [
      "1.7123\n"
     ]
    }
   ],
   "source": [
    "# Float - Gleitkommazahlen\n",
    "size = 1.7123\n",
    "print(size)"
   ]
  },
  {
   "cell_type": "code",
   "execution_count": 9,
   "id": "d413ca46-8916-4111-9ef9-519d4e9bae55",
   "metadata": {},
   "outputs": [
    {
     "name": "stdout",
     "output_type": "stream",
     "text": [
      "True\n",
      "False\n"
     ]
    }
   ],
   "source": [
    "# Boolean - Boolsche Werte\n",
    "knows_math = True\n",
    "print(knows_math)\n",
    "likes_gardening = False\n",
    "print(likes_gardening)"
   ]
  },
  {
   "cell_type": "code",
   "execution_count": 10,
   "id": "d6e287ce-e11b-49a2-b2d9-4c230ead6b7d",
   "metadata": {},
   "outputs": [
    {
     "data": {
      "text/plain": [
       "bool"
      ]
     },
     "execution_count": 10,
     "metadata": {},
     "output_type": "execute_result"
    }
   ],
   "source": [
    "# Typen anzeigen lassen\n",
    "type(knows_math)"
   ]
  },
  {
   "cell_type": "code",
   "execution_count": 11,
   "id": "c505434e-3c8f-469e-996f-896041c184bd",
   "metadata": {},
   "outputs": [
    {
     "data": {
      "text/plain": [
       "'Lovelace'"
      ]
     },
     "execution_count": 11,
     "metadata": {},
     "output_type": "execute_result"
    }
   ],
   "source": [
    "name"
   ]
  },
  {
   "cell_type": "code",
   "execution_count": 12,
   "id": "675a2b4a-1325-4f72-a091-e2023e1d865e",
   "metadata": {},
   "outputs": [
    {
     "data": {
      "text/plain": [
       "37"
      ]
     },
     "execution_count": 12,
     "metadata": {},
     "output_type": "execute_result"
    }
   ],
   "source": [
    "name\n",
    "age"
   ]
  },
  {
   "cell_type": "code",
   "execution_count": 13,
   "id": "78ce14f8-a825-4240-b4df-233a1f973388",
   "metadata": {},
   "outputs": [
    {
     "name": "stdout",
     "output_type": "stream",
     "text": [
      "Lovelace\n",
      "37\n"
     ]
    }
   ],
   "source": [
    "print(name)\n",
    "print(age)"
   ]
  },
  {
   "cell_type": "markdown",
   "id": "187fdbe9-e67e-43b3-9d0b-26b78e0b6463",
   "metadata": {},
   "source": [
    "## Operatoren"
   ]
  },
  {
   "cell_type": "code",
   "execution_count": 14,
   "id": "fe2d9afa-b727-4de4-b3df-b00253afc95a",
   "metadata": {},
   "outputs": [
    {
     "data": {
      "text/plain": [
       "10"
      ]
     },
     "execution_count": 14,
     "metadata": {},
     "output_type": "execute_result"
    }
   ],
   "source": [
    "# Addition\n",
    "5 + 5"
   ]
  },
  {
   "cell_type": "code",
   "execution_count": 15,
   "id": "8f110d9d-31a1-4adc-9d9c-31e20f9407d0",
   "metadata": {},
   "outputs": [
    {
     "data": {
      "text/plain": [
       "3700"
      ]
     },
     "execution_count": 15,
     "metadata": {},
     "output_type": "execute_result"
    }
   ],
   "source": [
    "# Multiplikation\n",
    "age * 100"
   ]
  },
  {
   "cell_type": "code",
   "execution_count": 16,
   "id": "142a4e9e-18d0-410e-bf03-f1335222dc71",
   "metadata": {},
   "outputs": [
    {
     "data": {
      "text/plain": [
       "'LovelaceLovelace'"
      ]
     },
     "execution_count": 16,
     "metadata": {},
     "output_type": "execute_result"
    }
   ],
   "source": [
    "# Verkettung von strings\n",
    "name + name"
   ]
  },
  {
   "cell_type": "code",
   "execution_count": 17,
   "id": "0431e726-ae6f-4bb0-950d-322f9bb8ab07",
   "metadata": {},
   "outputs": [
    {
     "data": {
      "text/plain": [
       "'AdaLovelace'"
      ]
     },
     "execution_count": 17,
     "metadata": {},
     "output_type": "execute_result"
    }
   ],
   "source": [
    "first_name + name"
   ]
  },
  {
   "cell_type": "code",
   "execution_count": 19,
   "id": "c8336003-d7d3-4f66-9876-5e617e79600c",
   "metadata": {},
   "outputs": [
    {
     "name": "stdout",
     "output_type": "stream",
     "text": [
      "Ada Lovelace\n"
     ]
    }
   ],
   "source": [
    "print(first_name + \" \" + name)"
   ]
  },
  {
   "cell_type": "code",
   "execution_count": 20,
   "id": "cbfd186e-a1a9-4b3c-a27a-d9a8caa0fba3",
   "metadata": {},
   "outputs": [
    {
     "data": {
      "text/plain": [
       "'Ada Lovelace'"
      ]
     },
     "execution_count": 20,
     "metadata": {},
     "output_type": "execute_result"
    }
   ],
   "source": [
    "first_name + \" \" + name"
   ]
  },
  {
   "cell_type": "code",
   "execution_count": 21,
   "id": "16941192-e618-460d-babf-00a0e016b484",
   "metadata": {},
   "outputs": [
    {
     "data": {
      "text/plain": [
       "'LovelaceLovelaceLovelaceLovelaceLovelaceLovelaceLovelaceLovelaceLovelaceLovelace'"
      ]
     },
     "execution_count": 21,
     "metadata": {},
     "output_type": "execute_result"
    }
   ],
   "source": [
    "name * 10"
   ]
  },
  {
   "cell_type": "code",
   "execution_count": 22,
   "id": "90d1098e-783a-4e5a-9eae-3c2f3c49180f",
   "metadata": {},
   "outputs": [
    {
     "ename": "TypeError",
     "evalue": "can only concatenate str (not \"int\") to str",
     "output_type": "error",
     "traceback": [
      "\u001b[0;31m---------------------------------------------------------------------------\u001b[0m",
      "\u001b[0;31mTypeError\u001b[0m                                 Traceback (most recent call last)",
      "Cell \u001b[0;32mIn[22], line 1\u001b[0m\n\u001b[0;32m----> 1\u001b[0m \u001b[43mname\u001b[49m\u001b[43m \u001b[49m\u001b[38;5;241;43m+\u001b[39;49m\u001b[43m \u001b[49m\u001b[38;5;241;43m10\u001b[39;49m\n",
      "\u001b[0;31mTypeError\u001b[0m: can only concatenate str (not \"int\") to str"
     ]
    }
   ],
   "source": [
    "name + 10"
   ]
  },
  {
   "cell_type": "code",
   "execution_count": 23,
   "id": "44e7a35f-5120-4953-a983-1227e4f179fe",
   "metadata": {},
   "outputs": [
    {
     "data": {
      "text/plain": [
       "'Lovelace10'"
      ]
     },
     "execution_count": 23,
     "metadata": {},
     "output_type": "execute_result"
    }
   ],
   "source": [
    "name + \"10\""
   ]
  },
  {
   "cell_type": "code",
   "execution_count": 24,
   "id": "7eaab370-f6c8-4017-b6b0-8047cc241c5e",
   "metadata": {},
   "outputs": [
    {
     "data": {
      "text/plain": [
       "0.04627837837837838"
      ]
     },
     "execution_count": 24,
     "metadata": {},
     "output_type": "execute_result"
    }
   ],
   "source": [
    "size / age"
   ]
  },
  {
   "cell_type": "code",
   "execution_count": 25,
   "id": "c55ea8ef-adab-4bfc-9a8a-a5fb3b868152",
   "metadata": {},
   "outputs": [],
   "source": [
    "number_of_articles = \"50\""
   ]
  },
  {
   "cell_type": "code",
   "execution_count": 26,
   "id": "94d18152-cac8-4ec8-a8aa-aa9d140fb58a",
   "metadata": {},
   "outputs": [
    {
     "ename": "TypeError",
     "evalue": "unsupported operand type(s) for /: 'str' and 'int'",
     "output_type": "error",
     "traceback": [
      "\u001b[0;31m---------------------------------------------------------------------------\u001b[0m",
      "\u001b[0;31mTypeError\u001b[0m                                 Traceback (most recent call last)",
      "Cell \u001b[0;32mIn[26], line 1\u001b[0m\n\u001b[0;32m----> 1\u001b[0m \u001b[43mnumber_of_articles\u001b[49m\u001b[43m \u001b[49m\u001b[38;5;241;43m/\u001b[39;49m\u001b[43m \u001b[49m\u001b[38;5;241;43m10\u001b[39;49m\n",
      "\u001b[0;31mTypeError\u001b[0m: unsupported operand type(s) for /: 'str' and 'int'"
     ]
    }
   ],
   "source": [
    "number_of_articles / 10"
   ]
  },
  {
   "cell_type": "code",
   "execution_count": 27,
   "id": "66aacd14-1b09-4a69-938e-10a199a4a330",
   "metadata": {},
   "outputs": [
    {
     "data": {
      "text/plain": [
       "5.0"
      ]
     },
     "execution_count": 27,
     "metadata": {},
     "output_type": "execute_result"
    }
   ],
   "source": [
    "int(number_of_articles) / 10"
   ]
  },
  {
   "cell_type": "code",
   "execution_count": 28,
   "id": "9b621174-b89d-476f-9e72-8ab5c1524666",
   "metadata": {},
   "outputs": [
    {
     "data": {
      "text/plain": [
       "str"
      ]
     },
     "execution_count": 28,
     "metadata": {},
     "output_type": "execute_result"
    }
   ],
   "source": [
    "type(number_of_articles)"
   ]
  },
  {
   "cell_type": "markdown",
   "id": "d1896ee2-1e7f-414e-a109-de772a66f7d9",
   "metadata": {},
   "source": [
    "## Funktionen und Methoden"
   ]
  },
  {
   "cell_type": "code",
   "execution_count": 29,
   "id": "281cde4d-8529-4b0b-907d-9e2c80f7b80f",
   "metadata": {},
   "outputs": [
    {
     "data": {
      "text/plain": [
       "8"
      ]
     },
     "execution_count": 29,
     "metadata": {},
     "output_type": "execute_result"
    }
   ],
   "source": [
    "# Funktion\n",
    "len(name)"
   ]
  },
  {
   "cell_type": "code",
   "execution_count": 30,
   "id": "94c275ff-cd73-4740-ad44-0ad258452efd",
   "metadata": {},
   "outputs": [
    {
     "data": {
      "text/plain": [
       "'LOVELACE'"
      ]
     },
     "execution_count": 30,
     "metadata": {},
     "output_type": "execute_result"
    }
   ],
   "source": [
    "# Methode\n",
    "name.upper()"
   ]
  },
  {
   "cell_type": "code",
   "execution_count": 31,
   "id": "bf40bc67-d4af-4bbd-87c8-d79c806886df",
   "metadata": {},
   "outputs": [
    {
     "data": {
      "text/plain": [
       "'Lovelace'"
      ]
     },
     "execution_count": 31,
     "metadata": {},
     "output_type": "execute_result"
    }
   ],
   "source": [
    "name"
   ]
  },
  {
   "cell_type": "code",
   "execution_count": 32,
   "id": "0b7b69cc-11c8-4caf-b4f7-add00ca21b4e",
   "metadata": {},
   "outputs": [
    {
     "data": {
      "text/plain": [
       "2"
      ]
     },
     "execution_count": 32,
     "metadata": {},
     "output_type": "execute_result"
    }
   ],
   "source": [
    "# Methode mit einem Argument\n",
    "name.count(\"e\")"
   ]
  },
  {
   "cell_type": "code",
   "execution_count": 33,
   "id": "70feb83f-b00b-4ae8-9cd9-627e5c969a2c",
   "metadata": {},
   "outputs": [
    {
     "data": {
      "text/plain": [
       "1"
      ]
     },
     "execution_count": 33,
     "metadata": {},
     "output_type": "execute_result"
    }
   ],
   "source": [
    "name.count(\"l\")"
   ]
  },
  {
   "cell_type": "code",
   "execution_count": 34,
   "id": "fe729ad1-1bbe-4f4b-a305-7aa68816e7a7",
   "metadata": {},
   "outputs": [
    {
     "data": {
      "text/plain": [
       "2"
      ]
     },
     "execution_count": 34,
     "metadata": {},
     "output_type": "execute_result"
    }
   ],
   "source": [
    "name.upper().count(\"L\")"
   ]
  },
  {
   "cell_type": "code",
   "execution_count": 35,
   "id": "cdb92cbd-4e3f-40d4-b037-6dfc39793602",
   "metadata": {},
   "outputs": [],
   "source": [
    "name_upper = name.upper()"
   ]
  },
  {
   "cell_type": "code",
   "execution_count": 36,
   "id": "4e5a1e05-a6cc-4b28-aa13-4585dd9b6e67",
   "metadata": {},
   "outputs": [
    {
     "name": "stdout",
     "output_type": "stream",
     "text": [
      "LOVELACE\n"
     ]
    }
   ],
   "source": [
    "print(name_upper)"
   ]
  },
  {
   "cell_type": "code",
   "execution_count": 37,
   "id": "64c63bbf-0c20-4b17-8e5c-39688d77fa17",
   "metadata": {},
   "outputs": [
    {
     "ename": "SyntaxError",
     "evalue": "invalid syntax (2549437415.py, line 1)",
     "output_type": "error",
     "traceback": [
      "\u001b[0;36m  Cell \u001b[0;32mIn[37], line 1\u001b[0;36m\u001b[0m\n\u001b[0;31m    name upper = name.upper()\u001b[0m\n\u001b[0m         ^\u001b[0m\n\u001b[0;31mSyntaxError\u001b[0m\u001b[0;31m:\u001b[0m invalid syntax\n"
     ]
    }
   ],
   "source": [
    "name upper = name.upper()"
   ]
  },
  {
   "cell_type": "code",
   "execution_count": 38,
   "id": "2408bb7f-db78-47fa-b4e3-e905f4994aed",
   "metadata": {},
   "outputs": [
    {
     "ename": "SyntaxError",
     "evalue": "cannot assign to expression here. Maybe you meant '==' instead of '='? (3585823195.py, line 1)",
     "output_type": "error",
     "traceback": [
      "\u001b[0;36m  Cell \u001b[0;32mIn[38], line 1\u001b[0;36m\u001b[0m\n\u001b[0;31m    name-upper = name.upper()\u001b[0m\n\u001b[0m    ^\u001b[0m\n\u001b[0;31mSyntaxError\u001b[0m\u001b[0;31m:\u001b[0m cannot assign to expression here. Maybe you meant '==' instead of '='?\n"
     ]
    }
   ],
   "source": [
    "name-upper = name.upper()"
   ]
  },
  {
   "cell_type": "code",
   "execution_count": 39,
   "id": "8c2bc976-4860-4f44-8e88-3bfd7aa65e5a",
   "metadata": {},
   "outputs": [
    {
     "data": {
      "text/plain": [
       "'Love is everywhere'"
      ]
     },
     "execution_count": 39,
     "metadata": {},
     "output_type": "execute_result"
    }
   ],
   "source": [
    "# Methode mit zwei Argumenten\n",
    "name.replace(\"lace\", \" is everywhere\")"
   ]
  },
  {
   "cell_type": "markdown",
   "id": "89fe44dc-fd2e-4db0-ae29-16d48d04bde5",
   "metadata": {},
   "source": [
    "## Listen und Dictionaries"
   ]
  },
  {
   "cell_type": "code",
   "execution_count": 40,
   "id": "c620d891-9ccb-44d7-8793-950a94e77b6b",
   "metadata": {},
   "outputs": [],
   "source": [
    "names = [\"Lovelace\", \"Darwin\", \"Noether\", \"Hawking\"]"
   ]
  },
  {
   "cell_type": "code",
   "execution_count": 41,
   "id": "50674885-16ef-4e66-9a21-4cf90c8c6af8",
   "metadata": {},
   "outputs": [
    {
     "data": {
      "text/plain": [
       "['Lovelace', 'Darwin', 'Noether', 'Hawking']"
      ]
     },
     "execution_count": 41,
     "metadata": {},
     "output_type": "execute_result"
    }
   ],
   "source": [
    "names"
   ]
  },
  {
   "cell_type": "code",
   "execution_count": 42,
   "id": "74dbcdd3-1fbd-4563-b894-ab2cf513e03a",
   "metadata": {},
   "outputs": [
    {
     "data": {
      "text/plain": [
       "'Darwin'"
      ]
     },
     "execution_count": 42,
     "metadata": {},
     "output_type": "execute_result"
    }
   ],
   "source": [
    "names[1]"
   ]
  },
  {
   "cell_type": "code",
   "execution_count": 43,
   "id": "f4ae8e4c-1fd5-4287-b6c9-59adb3bfb2de",
   "metadata": {},
   "outputs": [
    {
     "data": {
      "text/plain": [
       "'Lovelace'"
      ]
     },
     "execution_count": 43,
     "metadata": {},
     "output_type": "execute_result"
    }
   ],
   "source": [
    "names[0]"
   ]
  },
  {
   "cell_type": "code",
   "execution_count": 44,
   "id": "2c1b90ed-8280-4071-a40e-ce78ccbac41f",
   "metadata": {},
   "outputs": [
    {
     "data": {
      "text/plain": [
       "'Hawking'"
      ]
     },
     "execution_count": 44,
     "metadata": {},
     "output_type": "execute_result"
    }
   ],
   "source": [
    "names[-1]"
   ]
  },
  {
   "cell_type": "code",
   "execution_count": 45,
   "id": "7244b7ff-ab68-4d9d-904d-6b43dc14e46a",
   "metadata": {},
   "outputs": [
    {
     "data": {
      "text/plain": [
       "['Lovelace', 'Darwin', 'Noether']"
      ]
     },
     "execution_count": 45,
     "metadata": {},
     "output_type": "execute_result"
    }
   ],
   "source": [
    "names[0:3]"
   ]
  },
  {
   "cell_type": "code",
   "execution_count": 46,
   "id": "4cff583b-7b54-4edd-bf7f-80514e4ce82c",
   "metadata": {},
   "outputs": [
    {
     "data": {
      "text/plain": [
       "['Lovelace', 'Darwin']"
      ]
     },
     "execution_count": 46,
     "metadata": {},
     "output_type": "execute_result"
    }
   ],
   "source": [
    "# slicing\n",
    "names[:2]"
   ]
  },
  {
   "cell_type": "code",
   "execution_count": 47,
   "id": "d19f9dee-a022-4624-9ce6-c5956aa84204",
   "metadata": {},
   "outputs": [
    {
     "data": {
      "text/plain": [
       "['Noether', 'Hawking']"
      ]
     },
     "execution_count": 47,
     "metadata": {},
     "output_type": "execute_result"
    }
   ],
   "source": [
    "names[2:]"
   ]
  },
  {
   "cell_type": "code",
   "execution_count": 48,
   "id": "8f06d8b2-822d-4615-bdb0-4c6939d6533a",
   "metadata": {},
   "outputs": [],
   "source": [
    "# Schlüssel- Wertpaar bei Dictionaries\n",
    "authors_and_birth_years = {\"Lovelace\": 1815, \n",
    "                           \"Darwin\": 1809, \n",
    "                           \"Noether\": 1882, \n",
    "                           \"Hawking\": 1942}"
   ]
  },
  {
   "cell_type": "code",
   "execution_count": 49,
   "id": "6a6b1bc4-9183-4793-af31-ffefc49a7148",
   "metadata": {},
   "outputs": [
    {
     "data": {
      "text/plain": [
       "1809"
      ]
     },
     "execution_count": 49,
     "metadata": {},
     "output_type": "execute_result"
    }
   ],
   "source": [
    "authors_and_birth_years[\"Darwin\"]"
   ]
  },
  {
   "cell_type": "code",
   "execution_count": 50,
   "id": "3f456501-0ae2-4fd9-998a-5ed854b58e04",
   "metadata": {},
   "outputs": [
    {
     "ename": "KeyError",
     "evalue": "'DARWIN'",
     "output_type": "error",
     "traceback": [
      "\u001b[0;31m---------------------------------------------------------------------------\u001b[0m",
      "\u001b[0;31mKeyError\u001b[0m                                  Traceback (most recent call last)",
      "Cell \u001b[0;32mIn[50], line 1\u001b[0m\n\u001b[0;32m----> 1\u001b[0m \u001b[43mauthors_and_birth_years\u001b[49m\u001b[43m[\u001b[49m\u001b[38;5;124;43m\"\u001b[39;49m\u001b[38;5;124;43mDARWIN\u001b[39;49m\u001b[38;5;124;43m\"\u001b[39;49m\u001b[43m]\u001b[49m\n",
      "\u001b[0;31mKeyError\u001b[0m: 'DARWIN'"
     ]
    }
   ],
   "source": [
    "authors_and_birth_years[\"DARWIN\"]"
   ]
  },
  {
   "cell_type": "code",
   "execution_count": 51,
   "id": "0d1233f0-cef2-4ac7-a75c-466b3fa6d453",
   "metadata": {},
   "outputs": [
    {
     "data": {
      "text/plain": [
       "dict_keys(['Lovelace', 'Darwin', 'Noether', 'Hawking'])"
      ]
     },
     "execution_count": 51,
     "metadata": {},
     "output_type": "execute_result"
    }
   ],
   "source": [
    "authors_and_birth_years.keys()"
   ]
  },
  {
   "cell_type": "markdown",
   "id": "10ff165a-478b-4b4f-93cb-3996cb93ac4d",
   "metadata": {},
   "source": [
    "## For-Schleife\n"
   ]
  },
  {
   "cell_type": "code",
   "execution_count": 57,
   "id": "9b952349-26e8-4a9d-af35-9137446c7fcf",
   "metadata": {},
   "outputs": [
    {
     "data": {
      "text/plain": [
       "'Lovelace'"
      ]
     },
     "execution_count": 57,
     "metadata": {},
     "output_type": "execute_result"
    }
   ],
   "source": [
    "name"
   ]
  },
  {
   "cell_type": "code",
   "execution_count": 52,
   "id": "c4585759-8054-45e1-9fbd-5603f9ee359f",
   "metadata": {},
   "outputs": [
    {
     "data": {
      "text/plain": [
       "['Lovelace', 'Darwin', 'Noether', 'Hawking']"
      ]
     },
     "execution_count": 52,
     "metadata": {},
     "output_type": "execute_result"
    }
   ],
   "source": [
    "names"
   ]
  },
  {
   "cell_type": "code",
   "execution_count": 61,
   "id": "56b1a3fe-eafd-45f8-98a8-283d90a36fe4",
   "metadata": {},
   "outputs": [],
   "source": [
    "person = \"Rabea\""
   ]
  },
  {
   "cell_type": "code",
   "execution_count": 59,
   "id": "c1a63b75-9ec3-4840-99c3-e063d3907150",
   "metadata": {},
   "outputs": [
    {
     "name": "stdout",
     "output_type": "stream",
     "text": [
      "Lovelace did awesome stuff.\n",
      "Darwin did awesome stuff.\n",
      "Noether did awesome stuff.\n",
      "Hawking did awesome stuff.\n"
     ]
    }
   ],
   "source": [
    "for person in names:\n",
    "    print(person + \" did awesome stuff.\")"
   ]
  },
  {
   "cell_type": "code",
   "execution_count": 55,
   "id": "b5d79e3b-ad53-460e-8982-8a94f204b40a",
   "metadata": {},
   "outputs": [
    {
     "name": "stdout",
     "output_type": "stream",
     "text": [
      "Lovelace did awesome stuff.\n",
      "-----\n",
      "Darwin did awesome stuff.\n",
      "-----\n",
      "Noether did awesome stuff.\n",
      "-----\n",
      "Hawking did awesome stuff.\n",
      "-----\n"
     ]
    }
   ],
   "source": [
    "for person in names:\n",
    "    print(person + \" did awesome stuff.\")\n",
    "    print(\"-----\")"
   ]
  },
  {
   "cell_type": "code",
   "execution_count": 62,
   "id": "f510c204-3141-4348-9b7d-ac82206f537f",
   "metadata": {},
   "outputs": [
    {
     "name": "stdout",
     "output_type": "stream",
     "text": [
      "Rabea\n"
     ]
    }
   ],
   "source": [
    "print(person)"
   ]
  },
  {
   "cell_type": "code",
   "execution_count": 63,
   "id": "c6efc9ee-7342-460a-81b0-d8f1ace4652c",
   "metadata": {},
   "outputs": [
    {
     "name": "stdout",
     "output_type": "stream",
     "text": [
      "Variable                  Type     Data/Info\n",
      "--------------------------------------------\n",
      "age                       int      37\n",
      "authors_and_birth_years   dict     n=4\n",
      "first_name                str      Ada\n",
      "knows_math                bool     True\n",
      "likes_gardening           bool     False\n",
      "name                      str      Lovelace\n",
      "name_upper                str      LOVELACE\n",
      "names                     list     n=4\n",
      "number_of_articles        str      50\n",
      "person                    str      Rabea\n",
      "size                      float    1.7123\n"
     ]
    }
   ],
   "source": [
    "%whos"
   ]
  },
  {
   "cell_type": "code",
   "execution_count": 66,
   "id": "1c6ace93-ce05-4b5c-bb1b-b1d44b306d9a",
   "metadata": {},
   "outputs": [
    {
     "ename": "NameError",
     "evalue": "name 'person' is not defined",
     "output_type": "error",
     "traceback": [
      "\u001b[0;31m---------------------------------------------------------------------------\u001b[0m",
      "\u001b[0;31mNameError\u001b[0m                                 Traceback (most recent call last)",
      "Cell \u001b[0;32mIn[66], line 2\u001b[0m\n\u001b[1;32m      1\u001b[0m \u001b[38;5;66;03m# Variable löschen\u001b[39;00m\n\u001b[0;32m----> 2\u001b[0m \u001b[38;5;28;01mdel\u001b[39;00m person\n",
      "\u001b[0;31mNameError\u001b[0m: name 'person' is not defined"
     ]
    }
   ],
   "source": [
    "# Variable löschen\n",
    "del person"
   ]
  },
  {
   "cell_type": "code",
   "execution_count": 65,
   "id": "3223a7b4-df39-4021-b34d-40de41fe479a",
   "metadata": {},
   "outputs": [
    {
     "name": "stdout",
     "output_type": "stream",
     "text": [
      "Variable                  Type     Data/Info\n",
      "--------------------------------------------\n",
      "age                       int      37\n",
      "authors_and_birth_years   dict     n=4\n",
      "first_name                str      Ada\n",
      "knows_math                bool     True\n",
      "likes_gardening           bool     False\n",
      "name                      str      Lovelace\n",
      "name_upper                str      LOVELACE\n",
      "names                     list     n=4\n",
      "number_of_articles        str      50\n",
      "size                      float    1.7123\n"
     ]
    }
   ],
   "source": [
    "%whos"
   ]
  },
  {
   "cell_type": "markdown",
   "id": "dd04486d-35e4-47be-a168-fba75085a63a",
   "metadata": {},
   "source": [
    "## Conditionals (Bedingte Anweisungen)"
   ]
  },
  {
   "cell_type": "code",
   "execution_count": 67,
   "id": "aa7c7242-f5ba-41e1-adcd-829f10b6cca7",
   "metadata": {},
   "outputs": [],
   "source": [
    "temp = 20"
   ]
  },
  {
   "cell_type": "code",
   "execution_count": 68,
   "id": "0f7edb91-3797-4488-8386-6c8c3b3703a9",
   "metadata": {},
   "outputs": [
    {
     "name": "stdout",
     "output_type": "stream",
     "text": [
      "Es ist warm.\n"
     ]
    }
   ],
   "source": [
    "if temp > 15:\n",
    "    print(\"Es ist warm.\")"
   ]
  },
  {
   "cell_type": "code",
   "execution_count": 69,
   "id": "873e89af-08e2-458b-94a1-aae92f0221c0",
   "metadata": {},
   "outputs": [
    {
     "data": {
      "text/plain": [
       "True"
      ]
     },
     "execution_count": 69,
     "metadata": {},
     "output_type": "execute_result"
    }
   ],
   "source": [
    "20 > 15"
   ]
  },
  {
   "cell_type": "code",
   "execution_count": 72,
   "id": "55519f8f-7a01-48ec-b0f4-bbee10c191ca",
   "metadata": {},
   "outputs": [
    {
     "name": "stdout",
     "output_type": "stream",
     "text": [
      "Es ist kalt.\n"
     ]
    }
   ],
   "source": [
    "temp = 10\n",
    "if temp > 15:\n",
    "    print(\"Es ist warm.\")\n",
    "else:\n",
    "    print(\"Es ist kalt.\")"
   ]
  },
  {
   "cell_type": "code",
   "execution_count": 75,
   "id": "96a697ca-7a35-4743-bbf6-9a22a4f3f171",
   "metadata": {},
   "outputs": [
    {
     "name": "stdout",
     "output_type": "stream",
     "text": [
      "Es ist kalt.\n"
     ]
    }
   ],
   "source": [
    "temp = -5\n",
    "if temp > 25:\n",
    "    print(\"Es ist heiß.\")\n",
    "elif temp >= 15:\n",
    "    print(\"Es ist warm.\")\n",
    "else:\n",
    "    print(\"Es ist kalt.\")"
   ]
  },
  {
   "cell_type": "code",
   "execution_count": 76,
   "id": "2d6a6a20-49a1-4087-8aab-fd57c73ede18",
   "metadata": {},
   "outputs": [
    {
     "name": "stdout",
     "output_type": "stream",
     "text": [
      "Es ist warm.\n"
     ]
    }
   ],
   "source": [
    "temp = 30\n",
    "if temp >= 15:\n",
    "    print(\"Es ist warm.\")\n",
    "elif temp > 25:\n",
    "    print(\"Es ist heiß.\")\n",
    "else:\n",
    "    print(\"Es ist kalt.\")"
   ]
  },
  {
   "cell_type": "code",
   "execution_count": null,
   "id": "6ca00de9-742f-46dd-87b3-e6cf3b0bda2e",
   "metadata": {},
   "outputs": [],
   "source": []
  }
 ],
 "metadata": {
  "kernelspec": {
   "display_name": "Python 3 (ipykernel)",
   "language": "python",
   "name": "python3"
  },
  "language_info": {
   "codemirror_mode": {
    "name": "ipython",
    "version": 3
   },
   "file_extension": ".py",
   "mimetype": "text/x-python",
   "name": "python",
   "nbconvert_exporter": "python",
   "pygments_lexer": "ipython3",
   "version": "3.10.12"
  }
 },
 "nbformat": 4,
 "nbformat_minor": 5
}
